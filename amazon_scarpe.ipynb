{
 "cells": [
  {
   "cell_type": "code",
   "execution_count": 4,
   "id": "5a862e33",
   "metadata": {},
   "outputs": [],
   "source": [
    "from selenium import webdriver\n",
    "from selenium.webdriver.common.by import By\n",
    "from selenium.webdriver.chrome.service import Service\n",
    "from webdriver_manager.chrome import ChromeDriverManager\n",
    "import csv\n",
    "import time"
   ]
  },
  {
   "cell_type": "code",
   "execution_count": 6,
   "id": "0d7ca754",
   "metadata": {},
   "outputs": [],
   "source": [
    "# Initialize the Chrome driver using webdriver-manager\n",
    "driver = webdriver.Chrome(service=Service(ChromeDriverManager().install()))\n",
    "\n",
    "# Open the Amazon page\n",
    "url = 'https://www.amazon.com/s?k=playstation+5'\n",
    "driver.get(url)\n",
    "\n",
    "# Allow the page to load\n",
    "time.sleep(3)\n",
    "\n",
    "# List to store product data\n",
    "product_data = []\n",
    "\n",
    "# Find the product elements\n",
    "products = driver.find_elements(By.CSS_SELECTOR, 'div[data-component-type=\"s-search-result\"]')\n",
    "\n",
    "# Extract data from each product\n",
    "for product in products:\n",
    "    try:\n",
    "        title = product.find_element(By.CSS_SELECTOR, 'span.a-size-medium').text\n",
    "    except:\n",
    "        title = 'N/A'\n",
    "\n",
    "    try:\n",
    "        price_whole = product.find_element(By.CSS_SELECTOR, 'span.a-price-whole').text\n",
    "        price_fraction = product.find_element(By.CSS_SELECTOR, 'span.a-price-fraction').text\n",
    "        price = f'{price_whole}.{price_fraction}'\n",
    "    except:\n",
    "        price = 'N/A'\n",
    "\n",
    "    try:\n",
    "        rating = product.find_element(By.CSS_SELECTOR, 'span.a-size-base').text\n",
    "    except:\n",
    "        rating = 'N/A'\n",
    "\n",
    "    product_data.append([title, price, rating])\n",
    "\n",
    "# Write the data to a CSV file\n",
    "with open('amazon_playstation_5_products.csv', 'w', newline='', encoding='utf-8') as csvfile:\n",
    "    writer = csv.writer(csvfile)\n",
    "    writer.writerow(['Title', 'Price', 'Rating'])  # Write the headers\n",
    "    writer.writerows(product_data)  # Write the product data"
   ]
  },
  {
   "cell_type": "code",
   "execution_count": null,
   "id": "960d2820",
   "metadata": {},
   "outputs": [],
   "source": []
  }
 ],
 "metadata": {
  "kernelspec": {
   "display_name": "Python 3 (ipykernel)",
   "language": "python",
   "name": "python3"
  },
  "language_info": {
   "codemirror_mode": {
    "name": "ipython",
    "version": 3
   },
   "file_extension": ".py",
   "mimetype": "text/x-python",
   "name": "python",
   "nbconvert_exporter": "python",
   "pygments_lexer": "ipython3",
   "version": "3.7.6"
  }
 },
 "nbformat": 4,
 "nbformat_minor": 5
}
